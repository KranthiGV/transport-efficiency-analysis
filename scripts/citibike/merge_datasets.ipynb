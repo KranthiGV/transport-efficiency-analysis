{
 "cells": [
  {
   "cell_type": "code",
   "execution_count": null,
   "metadata": {},
   "outputs": [],
   "source": [
    "import pandas as pd\n",
    "import os\n",
    "import glob\n",
    "from pathlib import Path"
   ]
  },
  {
   "cell_type": "code",
   "execution_count": null,
   "metadata": {},
   "outputs": [],
   "source": [
    "def file_key(file):\n",
    "    base_name = os.path.basename(file)\n",
    "    year_month = base_name.split('-citibike-tripdata')[0]\n",
    "    year, month = year_month[:4], year_month[4:]\n",
    "    return int(year) * 100 + int(month)"
   ]
  },
  {
   "cell_type": "code",
   "execution_count": null,
   "metadata": {},
   "outputs": [],
   "source": [
    "data_path = Path('./../data/citibike')\n",
    "\n",
    "# Get all the CSV files in the citibike data directory\n",
    "csv_files = glob.glob(str(data_path / '*.csv'))\n",
    "\n",
    "# Sort the CSV files in chronological order\n",
    "csv_files.sort(key=file_key)"
   ]
  },
  {
   "cell_type": "code",
   "execution_count": null,
   "metadata": {},
   "outputs": [],
   "source": [
    "# Dictionary to store the grouped CSV files\n",
    "grouped_files = {}\n",
    "\n",
    "# Loop through all CSV files and read their columns\n",
    "for file in csv_files:\n",
    "    print(f\"Processing {file}\")\n",
    "    data = pd.read_csv(file, nrows=0)  # Read only the columns, no rows\n",
    "    columns = tuple(data.columns)\n",
    "\n",
    "    # Add the file to the appropriate group\n",
    "    if columns in grouped_files:\n",
    "        grouped_files[columns].append(file)\n",
    "    else:\n",
    "        grouped_files[columns] = [file]\n",
    "\n",
    "print(\"\\nGrouped files:\")\n",
    "for i, columns in enumerate(grouped_files.keys(), start=1):\n",
    "    print(f\"Group {i}: {list(columns)}\")"
   ]
  },
  {
   "cell_type": "code",
   "execution_count": null,
   "metadata": {},
   "outputs": [],
   "source": [
    "# Print the content of dictionary\n",
    "for columns, files in grouped_files.items():\n",
    "    print(f\"Group {columns}:\")\n",
    "    for file in files:\n",
    "        print(f\"  {file}\")"
   ]
  },
  {
   "cell_type": "code",
   "execution_count": null,
   "metadata": {},
   "outputs": [],
   "source": [
    "def find_largest_subgroup(files):\n",
    "    largest_subgroup = []\n",
    "    current_subgroup = [files[0]]\n",
    "\n",
    "    for prev, current in zip(files[:-1], files[1:]):\n",
    "        prev_key = file_key(prev)\n",
    "        current_key = file_key(current)\n",
    "\n",
    "        # Check if consecutive files are 1 month apart or a new year begins\n",
    "        if current_key - prev_key == 1 or (current_key % 100 == 1 and prev_key % 100 == 12):\n",
    "            current_subgroup.append(current)\n",
    "        else:\n",
    "            # Compare current_subgroup and largest_subgroup, update if needed\n",
    "            if len(current_subgroup) > len(largest_subgroup):\n",
    "                largest_subgroup = current_subgroup\n",
    "\n",
    "            # Reset current_subgroup\n",
    "            current_subgroup = [current]\n",
    "\n",
    "    # Final comparison for the last subgroup\n",
    "    if len(current_subgroup) > len(largest_subgroup):\n",
    "        largest_subgroup = current_subgroup\n",
    "\n",
    "    return largest_subgroup\n",
    "\n",
    "print(\"\\nLargest subgroups with no missing months:\")\n",
    "for i, (columns, files) in enumerate(grouped_files.items(), start=1):\n",
    "    largest_subgroup = find_largest_subgroup(files)\n",
    "    print(f\"Group {i}: {list(columns)}\")\n",
    "    print(\"  Largest subgroup length:\", len(largest_subgroup))\n",
    "    print(\"  Largest subgroup:\", largest_subgroup)\n"
   ]
  },
  {
   "attachments": {},
   "cell_type": "markdown",
   "metadata": {},
   "source": [
    "# Choosing the subgroup\n",
    "Let us choose the data from 2021-02 to 2023-03"
   ]
  },
  {
   "cell_type": "code",
   "execution_count": null,
   "metadata": {},
   "outputs": [],
   "source": [
    "# Find index of selected data in csv_files\n",
    "start_index = csv_files.index(str(data_path / '202102-citibike-tripdata.csv'))\n",
    "end_index = csv_files.index(str(data_path / '202303-citibike-tripdata.csv'))\n",
    "selected_files = csv_files[start_index:end_index+1]"
   ]
  },
  {
   "cell_type": "code",
   "execution_count": null,
   "metadata": {},
   "outputs": [],
   "source": [
    "# Initialize an empty list to store DataFrames\n",
    "dataframes = []\n",
    "\n",
    "# Read each CSV file and append the DataFrame to the list\n",
    "for file in selected_files:\n",
    "    df = pd.read_csv(file)\n",
    "    dataframes.append(df)\n",
    "\n",
    "# Concatenate all the DataFrames\n",
    "merged_dataframe = pd.concat(dataframes, ignore_index=True)"
   ]
  },
  {
   "cell_type": "code",
   "execution_count": null,
   "metadata": {},
   "outputs": [],
   "source": [
    "# Extract YYYYMM from the first and last file in selected_files\n",
    "start_YYYYMM = selected_files[0].split('/')[-1][:6]\n",
    "end_YYYYMM = selected_files[-1].split('/')[-1][:6]\n",
    "\n",
    "# Create the output file name\n",
    "output_file_name = f\"{start_YYYYMM}-{end_YYYYMM}-citibike-tripdata-merged.csv\"\n",
    "output_file = data_path / output_file_name"
   ]
  },
  {
   "cell_type": "code",
   "execution_count": null,
   "metadata": {},
   "outputs": [],
   "source": [
    "# Write the concatenated DataFrame to the output CSV file\n",
    "merged_dataframe.to_csv(output_file, index=False)"
   ]
  }
 ],
 "metadata": {
  "kernelspec": {
   "display_name": "rbda",
   "language": "python",
   "name": "python3"
  },
  "language_info": {
   "codemirror_mode": {
    "name": "ipython",
    "version": 3
   },
   "file_extension": ".py",
   "mimetype": "text/x-python",
   "name": "python",
   "nbconvert_exporter": "python",
   "pygments_lexer": "ipython3",
   "version": "3.8.16"
  },
  "orig_nbformat": 4
 },
 "nbformat": 4,
 "nbformat_minor": 2
}
